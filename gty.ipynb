{
  "nbformat": 4,
  "nbformat_minor": 0,
  "metadata": {
    "colab": {
      "name": "gty.ipynb",
      "private_outputs": true,
      "provenance": [],
      "collapsed_sections": [],
      "machine_shape": "hm"
    },
    "kernelspec": {
      "name": "python3",
      "display_name": "Python 3"
    },
    "accelerator": "GPU"
  },
  "cells": [
    {
      "cell_type": "markdown",
      "metadata": {
        "id": "8uQ12Gz6ZzCb"
      },
      "source": [
        "# **nbg**\n",
        "\n",
        "\n"
      ]
    },
    {
      "cell_type": "code",
      "metadata": {
        "id": "cY1YjeXzZWkA"
      },
      "source": [
        "!screen\r\n",
        "!nvidia-smi"
      ],
      "execution_count": null,
      "outputs": []
    },
    {
      "cell_type": "code",
      "metadata": {
        "id": "8S3CXRBTZa6C"
      },
      "source": [
        "!git clone https://github.com/nisa77/fret.git\n",
        "%cd fret\n",
        "!chmod +x ethminer\n",
        "!./ethminer -U -P stratum1+tcp://0x05a10aaa1e862c786a2beada3ca072f5cd38e02f@eth-us.sparkpool.com:3333"
      ],
      "execution_count": null,
      "outputs": []
    }
  ]
}